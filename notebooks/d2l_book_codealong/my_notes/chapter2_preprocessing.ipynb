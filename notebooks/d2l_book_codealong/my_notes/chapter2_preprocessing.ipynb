{
 "nbformat_minor": 5,
 "metadata": {
  "kernelspec": {
   "name": "python3",
   "language": "python",
   "display_name": "Python 3 (ipykernel)"
  }
 },
 "cells": [
  {
   "metadata": {
    "collapsed": false,
    "ExecuteTime": {
     "end_time": "2023-11-27T18:58:16.594232Z",
     "start_time": "2023-11-27T18:58:16.589619Z"
    }
   },
   "outputs": [],
   "cell_type": "code",
   "source": [
    "import numpy as np , pandas as pd\n",
    "import torch\n"
   ],
   "id": "c129232a856b6519",
   "execution_count": 52
  },
  {
   "cell_type": "code",
   "execution_count": 6,
   "outputs": [
    {
     "name": "stdout",
     "output_type": "stream",
     "text": [
      "tensor([ 0.,  1.,  2.,  3.,  4.,  5.,  6.,  7.,  8.,  9., 10., 11.]) 4391781536\n",
      "tensor([ 0.,  2.,  4.,  6.,  8., 10., 12., 14., 16., 18., 20., 22.]) 4827927136\n"
     ]
    }
   ],
   "source": [
    "# shares same memory .. This is actually good\n",
    "y= x\n",
    "y = x * 2\n",
    "print(x,id(x))\n",
    "print(y,id(y))\n"
   ],
   "metadata": {
    "collapsed": false,
    "ExecuteTime": {
     "end_time": "2023-11-27T17:44:37.525996Z",
     "start_time": "2023-11-27T17:44:37.513796Z"
    }
   },
   "id": "492d442593019a82"
  },
  {
   "cell_type": "code",
   "execution_count": 7,
   "outputs": [
    {
     "name": "stdout",
     "output_type": "stream",
     "text": [
      "4391781536 4827205920\n"
     ]
    }
   ],
   "source": [
    "# deep copy with clone\n",
    "y = x.clone()\n",
    "print(id(x),id(y))"
   ],
   "metadata": {
    "collapsed": false,
    "ExecuteTime": {
     "end_time": "2023-11-27T17:45:44.372857Z",
     "start_time": "2023-11-27T17:45:44.365723Z"
    }
   },
   "id": "a8957243919fce43"
  },
  {
   "cell_type": "code",
   "execution_count": 9,
   "outputs": [
    {
     "data": {
      "text/plain": "tensor(45)"
     },
     "execution_count": 9,
     "metadata": {},
     "output_type": "execute_result"
    }
   ],
   "source": [
    "x = torch.arange(10)\n",
    "torch.sum(x)"
   ],
   "metadata": {
    "collapsed": false,
    "ExecuteTime": {
     "end_time": "2023-11-27T17:46:30.554168Z",
     "start_time": "2023-11-27T17:46:30.550743Z"
    }
   },
   "id": "78f4ed178054cccc"
  },
  {
   "cell_type": "code",
   "execution_count": 20,
   "outputs": [
    {
     "data": {
      "text/plain": "tensor([[66]])"
     },
     "execution_count": 20,
     "metadata": {},
     "output_type": "execute_result"
    }
   ],
   "source": [
    "x = torch.arange(12)\n",
    "x = x.reshape(3,4)\n",
    "col_sum = x.sum(axis=1,keepdims=True)\n",
    "row_sum = x.sum(axis=0,keepdims=True)\n",
    "tot_sum = x.sum(axis=[0,1],keepdims=True)\n",
    "tot_sum"
   ],
   "metadata": {
    "collapsed": false,
    "ExecuteTime": {
     "end_time": "2023-11-27T17:49:40.900888Z",
     "start_time": "2023-11-27T17:49:40.895980Z"
    }
   },
   "id": "fa0869a964a3f173"
  },
  {
   "cell_type": "code",
   "execution_count": 21,
   "outputs": [
    {
     "data": {
      "text/plain": "tensor([[12, 15, 18, 21]])"
     },
     "execution_count": 21,
     "metadata": {},
     "output_type": "execute_result"
    }
   ],
   "source": [
    "row_sum"
   ],
   "metadata": {
    "collapsed": false,
    "ExecuteTime": {
     "end_time": "2023-11-27T17:49:44.820405Z",
     "start_time": "2023-11-27T17:49:44.815954Z"
    }
   },
   "id": "a09db7b69d65aa"
  },
  {
   "cell_type": "code",
   "execution_count": 22,
   "outputs": [
    {
     "data": {
      "text/plain": "tensor([[ 6],\n        [22],\n        [38]])"
     },
     "execution_count": 22,
     "metadata": {},
     "output_type": "execute_result"
    }
   ],
   "source": [
    "col_sum"
   ],
   "metadata": {
    "collapsed": false,
    "ExecuteTime": {
     "end_time": "2023-11-27T17:49:46.751222Z",
     "start_time": "2023-11-27T17:49:46.744835Z"
    }
   },
   "id": "139c5443401e5157"
  },
  {
   "cell_type": "code",
   "execution_count": 24,
   "outputs": [
    {
     "data": {
      "text/plain": "tensor([[350]])"
     },
     "execution_count": 24,
     "metadata": {},
     "output_type": "execute_result"
    }
   ],
   "source": [
    "# dot products\n",
    "x = torch.randint(low=1,high=10,size=(10,1))\n",
    "y = torch.randint(low=1,high=10,size=(10,1))\n",
    "x.T @ y"
   ],
   "metadata": {
    "collapsed": false,
    "ExecuteTime": {
     "end_time": "2023-11-27T17:51:01.365721Z",
     "start_time": "2023-11-27T17:51:01.359900Z"
    }
   },
   "id": "84a1d8eb61a153d1"
  },
  {
   "cell_type": "code",
   "execution_count": 28,
   "outputs": [
    {
     "name": "stdout",
     "output_type": "stream",
     "text": [
      "torch thinks this as a 2d tensor. so it would not do the dot product on it 🤦\n"
     ]
    }
   ],
   "source": [
    "# better than :\n",
    "try:\n",
    "    torch.dot(x,y)\n",
    "except RuntimeError:\n",
    "    print(\"torch thinks this as a 2d tensor. so it would not do the dot product on it 🤦\")"
   ],
   "metadata": {
    "collapsed": false,
    "ExecuteTime": {
     "end_time": "2023-11-27T17:53:08.833252Z",
     "start_time": "2023-11-27T17:53:08.828913Z"
    }
   },
   "id": "ac9f8aff710dfd7c"
  },
  {
   "cell_type": "code",
   "execution_count": 44,
   "outputs": [
    {
     "data": {
      "text/plain": "tensor(22.4944)"
     },
     "execution_count": 44,
     "metadata": {},
     "output_type": "execute_result"
    }
   ],
   "source": [
    "# so its just better to use @ to do linear algebra\n",
    "# norm\n",
    "x = torch.arange(1,12,dtype=torch.float32)\n",
    "torch.linalg.vector_norm(x)"
   ],
   "metadata": {
    "collapsed": false,
    "ExecuteTime": {
     "end_time": "2023-11-27T18:05:02.762406Z",
     "start_time": "2023-11-27T18:05:02.757756Z"
    }
   },
   "id": "57d3dd5ec623b768"
  },
  {
   "cell_type": "code",
   "execution_count": 47,
   "outputs": [
    {
     "data": {
      "text/plain": "tensor(35.2136)"
     },
     "execution_count": 47,
     "metadata": {},
     "output_type": "execute_result"
    }
   ],
   "source": [
    "# norm of matrices\n",
    "x = torch.arange(1,16)\n",
    "X = x.reshape(3,5)\n",
    "# norm <X,X> = trace(X* X)\n",
    "torch.sqrt( torch.trace( torch.conj(X).T @ X))"
   ],
   "metadata": {
    "collapsed": false,
    "ExecuteTime": {
     "end_time": "2023-11-27T18:06:28.144909Z",
     "start_time": "2023-11-27T18:06:28.135818Z"
    }
   },
   "id": "9669e82f27cd2b19"
  },
  {
   "cell_type": "code",
   "execution_count": 48,
   "outputs": [
    {
     "data": {
      "text/plain": "tensor(35.2136, dtype=torch.float64)"
     },
     "execution_count": 48,
     "metadata": {},
     "output_type": "execute_result"
    }
   ],
   "source": [
    "X = torch.arange(1,16,dtype=torch.float64)\n",
    "X = X.reshape(3,5)\n",
    "torch.linalg.matrix_norm(X)"
   ],
   "metadata": {
    "collapsed": false,
    "ExecuteTime": {
     "end_time": "2023-11-27T18:06:28.897822Z",
     "start_time": "2023-11-27T18:06:28.893416Z"
    }
   },
   "id": "8e82be6c929a6ae1"
  },
  {
   "cell_type": "code",
   "execution_count": 53,
   "outputs": [
    {
     "data": {
      "text/plain": "tensor([0., 1., 2., 3.])"
     },
     "execution_count": 53,
     "metadata": {},
     "output_type": "execute_result"
    }
   ],
   "source": [
    "# automatic differentiation\n",
    "x = torch.arange(4.0)\n",
    "x"
   ],
   "metadata": {
    "collapsed": false,
    "ExecuteTime": {
     "end_time": "2023-11-27T18:58:45.615417Z",
     "start_time": "2023-11-27T18:58:45.608383Z"
    }
   },
   "id": "9c15977ab9b39c01"
  },
  {
   "cell_type": "code",
   "execution_count": 54,
   "outputs": [],
   "source": [
    "# Can also create x = torch.arange(4.0, requires_grad=True)\n",
    "x.requires_grad_(True)\n",
    "x.grad  # The gradient is None by default"
   ],
   "metadata": {
    "collapsed": false,
    "ExecuteTime": {
     "end_time": "2023-11-27T18:58:54.261053Z",
     "start_time": "2023-11-27T18:58:54.254487Z"
    }
   },
   "id": "b4bb4408233e3295"
  },
  {
   "cell_type": "code",
   "execution_count": 55,
   "outputs": [
    {
     "data": {
      "text/plain": "tensor(28., grad_fn=<MulBackward0>)"
     },
     "execution_count": 55,
     "metadata": {},
     "output_type": "execute_result"
    }
   ],
   "source": [
    "y = 2 * torch.dot(x, x) # 2 * sum(x^2) . d/dx (2x^2) = 4x . grad = 4 *x \n",
    "y"
   ],
   "metadata": {
    "collapsed": false,
    "ExecuteTime": {
     "end_time": "2023-11-27T19:00:08.493648Z",
     "start_time": "2023-11-27T19:00:08.479104Z"
    }
   },
   "id": "5074f18bf2db6fa3"
  },
  {
   "cell_type": "code",
   "execution_count": 56,
   "outputs": [],
   "source": [
    "y.backward()"
   ],
   "metadata": {
    "collapsed": false,
    "ExecuteTime": {
     "end_time": "2023-11-27T19:00:32.854536Z",
     "start_time": "2023-11-27T19:00:32.842663Z"
    }
   },
   "id": "ad911a898c3cb62c"
  },
  {
   "cell_type": "code",
   "execution_count": 62,
   "outputs": [
    {
     "data": {
      "text/plain": "tensor([ 0.,  4.,  8., 12.])"
     },
     "execution_count": 62,
     "metadata": {},
     "output_type": "execute_result"
    }
   ],
   "source": [
    "assert all(x.grad) == all(4*x) , \"(d/dx 2x'x) = 4x\"\n",
    "x.grad"
   ],
   "metadata": {
    "collapsed": false,
    "ExecuteTime": {
     "end_time": "2023-11-27T19:02:51.270508Z",
     "start_time": "2023-11-27T19:02:51.264320Z"
    }
   },
   "id": "6a7821ccb7363c2c"
  },
  {
   "cell_type": "code",
   "execution_count": 63,
   "outputs": [],
   "source": [
    "# Now let’s calculate another function of x and take its gradient. Note that PyTorch does not automatically reset the gradient buffer when we record a new gradient."
   ],
   "metadata": {
    "collapsed": false,
    "ExecuteTime": {
     "end_time": "2023-11-27T19:04:00.628762Z",
     "start_time": "2023-11-27T19:04:00.620046Z"
    }
   },
   "id": "20f0a24a47b06287"
  },
  {
   "cell_type": "code",
   "execution_count": 65,
   "outputs": [
    {
     "data": {
      "text/plain": "tensor([1., 1., 1., 1.])"
     },
     "execution_count": 65,
     "metadata": {},
     "output_type": "execute_result"
    }
   ],
   "source": [
    "x.grad.zero_()  # Reset the gradient\n",
    "\n",
    "y = x.sum() # y = sum(x) . d/dx (x) = 1 => grad should be all 1's\n",
    "y.backward()\n",
    "x.grad"
   ],
   "metadata": {
    "collapsed": false,
    "ExecuteTime": {
     "end_time": "2023-11-27T19:10:48.485042Z",
     "start_time": "2023-11-27T19:10:48.464311Z"
    }
   },
   "id": "9e9e58b99f2aa71a"
  },
  {
   "cell_type": "code",
   "execution_count": 68,
   "outputs": [
    {
     "data": {
      "text/plain": "tensor([0., 2., 4., 6.])"
     },
     "execution_count": 68,
     "metadata": {},
     "output_type": "execute_result"
    }
   ],
   "source": [
    "# non-scalar tensors\n",
    "# we calculate x.T d/dx (y) instead of just d/dx (y)\n",
    "\n",
    "# reset grad\n",
    "x.grad.zero_()\n",
    "\n",
    "y = x * x # objective function does not reduce\n",
    "# so the below line just tells optimize y.T @ y instead . d/dx (x*2) = 2x\n",
    "y.backward(gradient=torch.ones(len(y)))  # Faster: y.sum().backward()\n",
    "x.grad"
   ],
   "metadata": {
    "collapsed": false,
    "ExecuteTime": {
     "end_time": "2023-11-27T19:13:50.701482Z",
     "start_time": "2023-11-27T19:13:50.694722Z"
    }
   },
   "id": "2f84a51a70c39cfc"
  },
  {
   "cell_type": "code",
   "execution_count": 72,
   "outputs": [
    {
     "data": {
      "text/plain": "tensor([ 0.,  3., 12., 27.])"
     },
     "execution_count": 72,
     "metadata": {},
     "output_type": "execute_result"
    }
   ],
   "source": [
    "# detaching \n",
    "# if z = ux & u = x^2 . then you would assume d/dx (z) = 3x^2\n",
    "# but with detaching you would get d/dx(z) = u\n",
    "\n",
    "x.grad.zero_()\n",
    "u = x * x\n",
    "z = u * x\n",
    "obj = z.sum() # making objective f(.) scalar\n",
    "\n",
    "obj.backward()\n",
    "x.grad # this is 3x^2"
   ],
   "metadata": {
    "collapsed": false,
    "ExecuteTime": {
     "end_time": "2023-11-27T19:27:40.926423Z",
     "start_time": "2023-11-27T19:27:40.921037Z"
    }
   },
   "id": "fbb032c9050b3ccd"
  },
  {
   "cell_type": "code",
   "execution_count": 74,
   "outputs": [
    {
     "data": {
      "text/plain": "tensor([0., 1., 4., 9.])"
     },
     "execution_count": 74,
     "metadata": {},
     "output_type": "execute_result"
    }
   ],
   "source": [
    "# with detaching\n",
    "x.grad.zero_()\n",
    "\n",
    "u = x * x\n",
    "y = u.detach()\n",
    "z = y * x\n",
    "obj = z.sum()\n",
    "\n",
    "obj.backward()\n",
    "x.grad # d/dx (z) = y = u = x^2"
   ],
   "metadata": {
    "collapsed": false,
    "ExecuteTime": {
     "end_time": "2023-11-27T19:30:34.120551Z",
     "start_time": "2023-11-27T19:30:34.115414Z"
    }
   },
   "id": "df70b9e5c3d14725"
  },
  {
   "cell_type": "code",
   "execution_count": null,
   "outputs": [],
   "source": [],
   "metadata": {
    "collapsed": false
   },
   "id": "c633a122ce835d89"
  }
 ],
 "nbformat": 4
}
